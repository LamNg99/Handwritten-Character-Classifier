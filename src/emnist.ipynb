{
 "cells": [
  {
   "attachments": {},
   "cell_type": "markdown",
   "id": "696fe57b",
   "metadata": {},
   "source": [
    "# 📝 Handwritten Character Regconition using Machine Learning\n",
    "\n",
    "This notebook will go through a machine learning project with the goal of classifying different handwritten characters including letters and digits.\n",
    "\n",
    "To do this, we will be using data downloaded from [EMNIST (Extended MNIST)](https://www.kaggle.com/datasets/crawford/emnist). It consists of six different splits with details provided below: \n",
    "* EMNIST ByClass: 814,255 characters. 62 unbalanced classes.\n",
    "* EMNIST ByMerge: 814,255 characters. 47 unbalanced classes.\n",
    "* EMNIST Balanced:  131,600 characters. 47 balanced classes.\n",
    "* EMNIST Letters: 145,600 characters. 26 balanced classes.\n",
    "* EMNIST Digits: 280,000 characters. 10 balanced classes.\n",
    "* EMNIST MNIST: 70,000 characters. 10 balanced classes.\n",
    "\n",
    "Visual breakdown of EMNIST datasets is specified as follow:\n",
    "<img src=\"../report/images/emnistdataset.jpg\" width=\"400\" height=\"800\">\n",
    "\n",
    "Please refer to the [EMNIST: an extension of MNIST to handwritten letters](https://arxiv.org/abs/1702.05373v1) paper for more details of the dataset. \n",
    "\n",
    "In this project, the `EMNIST Balanced` dataset will be used to reduce mis-classification errors due to capital and lower case letters and also has an equal number of samples per class. The `EMNIST Balanced` includes two main datasets: \n",
    "* **emnist-balanced-train.csv** - 112,800 images \n",
    "* **emnist-balanced-test.csv** - 18,800 images\n",
    "\n",
    "Each image is stored in `CSV` files using a separated row and 785 columns (first column represents the class lable )\n"
   ]
  },
  {
   "cell_type": "code",
   "execution_count": null,
   "id": "a9acb1fb",
   "metadata": {},
   "outputs": [],
   "source": []
  }
 ],
 "metadata": {
  "kernelspec": {
   "display_name": "Python 3 (ipykernel)",
   "language": "python",
   "name": "python3"
  },
  "language_info": {
   "codemirror_mode": {
    "name": "ipython",
    "version": 3
   },
   "file_extension": ".py",
   "mimetype": "text/x-python",
   "name": "python",
   "nbconvert_exporter": "python",
   "pygments_lexer": "ipython3",
   "version": "3.9.7"
  }
 },
 "nbformat": 4,
 "nbformat_minor": 5
}
